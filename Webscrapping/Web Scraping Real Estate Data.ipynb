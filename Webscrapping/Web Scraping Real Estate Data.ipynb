{
 "cells": [
  {
   "cell_type": "markdown",
   "id": "26299ebc",
   "metadata": {},
   "source": [
    "step 1 -- Imports"
   ]
  },
  {
   "cell_type": "code",
   "execution_count": 1,
   "id": "3983bbf2",
   "metadata": {},
   "outputs": [],
   "source": [
    "import requests\n",
    "import pandas as pd\n",
    "import sqlalchemy\n",
    "from time import sleep"
   ]
  },
  {
   "cell_type": "markdown",
   "id": "b06e97d0",
   "metadata": {},
   "source": [
    "step 2"
   ]
  },
  {
   "cell_type": "code",
   "execution_count": 2,
   "id": "a605c1d0",
   "metadata": {},
   "outputs": [],
   "source": [
    "headers = {\n",
    "    'authority': 'api2.realtor.ca',\n",
    "    'sec-ch-ua': '^\\\\^Google',\n",
    "    'accept': '*/*',\n",
    "    'content-type': 'application/x-www-form-urlencoded; charset=UTF-8',\n",
    "    'sec-ch-ua-mobile': '?0',\n",
    "    'user-agent': 'Mozilla/5.0 (Windows NT 10.0; Win64; x64) AppleWebKit/537.36 (KHTML, like Gecko) Chrome/93.0.4577.82 Safari/537.36',\n",
    "    'sec-ch-ua-platform': '^\\\\^Windows^\\\\^',\n",
    "    'origin': 'https://www.realtor.ca',\n",
    "    'sec-fetch-site': 'same-site',\n",
    "    'sec-fetch-mode': 'cors',\n",
    "    'sec-fetch-dest': 'empty',\n",
    "    'referer': 'https://www.realtor.ca/',\n",
    "    'accept-language': 'en-US,en;q=0.9',\n",
    "    'cookie': 'visid_incap_2269415=56oEKAXmT1e8LgWFhTODX39HT2EAAAAAQUIPAAAAAAA6XQQJauxAZNKYdTMi51ef; nlbi_2269415=QaoGOd78EWeyusHAkG5lugAAAAAihIiZUQqjacyaIhgm93n/; _fbp=fb.1.1632585611808.1195553212; gig_bootstrap_3_mrQiIl6ov44s2X3j6NGWVZ9SDDtplqV7WgdcyEpGYnYxl7ygDWPQHqQqtpSiUfko=gigya-pr_ver4; ASP.NET_SessionId=ls0ga3brpkfa0gwbb4t5iwjb; visid_incap_2271082=Bc3F/XJ7TXy966CgTpn81s9HT2EAAAAAQUIPAAAAAAAN6ueej0G2bHS8YfvoFfRL; nlbi_2271082=Y41sWIuXbWoSw4ZNcbDG1QAAAAAnuH/JvEJyvwbXFE/zX4aq; incap_ses_1184_2269415=MAMGBVlRRBprgaaLPGpuEGWAUGEAAAAAUMf2tKoUjjdygWbVgIw0EQ==; incap_ses_458_2269415=563WS3ux8DkbKMuoCSVbBuPyUWEAAAAAovhxVyjZzO9XyNCp20L7Ow==; incap_ses_458_2271082=BMetKrhiDTE7LcuoCSVbBujyUWEAAAAAgNH9YrvVt5nqijVx0EZ3Mw==; incap_ses_1104_2271082=j6+DUoVfyHLtmbXFmDJSD9P1UWEAAAAAqfG5AXvjjFQISsLO4gwV4w==; incap_ses_1104_2269415=yBPiJnyRn1owr8DFmDJSDwL9UWEAAAAApUlEomlbyOylhaCs3U3kEg==; incap_ses_459_2269415=JJiaRC5kCQTnO5eakbJeBvE9UmEAAAAAt+uTDRhKdXyPtNXmOQL7Fg==; incap_ses_452_2269415=2TbtdM7jlydht9bGEdRFBo/NUmEAAAAA3S/ehFvuui8jIjqRZO5wDg==; incap_ses_374_2269415=YP9/KO5RfGPDRyHzb7cwBbjSUmEAAAAAM8TVj8Yj5IMkP/X1yR58bQ==; incap_ses_1098_2269415=SqcoX+WOskd+XK+QpeE8D+DXUmEAAAAAwSHqqUztYsYNA4CjAehGBQ==; incap_ses_868_2269415=0oYkQdLIZSW6tK5B28ELDIAoU2EAAAAAhLkoQrFwL/pKfYWQJijdmA==; incap_ses_1105_2269415=+ufkHAEF7S8kNVUYtMZVD2lPU2EAAAAAN+IrEp7zORC2fHIpbel5Cw==; incap_ses_1372_2269415=nsKNYGt5Gl+3rCyoKFMKEzCHU2EAAAAAFWMoocoVKfbpcXWhbw/09A==; incap_ses_457_2269415=WZZ7FBhWAxRpMQEEkpdXBjCLU2EAAAAAtsb/LakuHY44P/fQDh5Fdw==; incap_ses_9125_2269415=7k/OTxGY9mEmwzP7cYOifpSOU2EAAAAAIDzUgxoLc8wUKblKQF7DFw==; incap_ses_1371_2269415=0rLzGXYGVSFi7pRugsUGE2RVVGEAAAAA9oRCalWypy9jXuqksc+vCw==; incap_ses_1100_2269415=fSU2ItKCF1EhXRLfm/xDD3CjVGEAAAAA5sqkvxIb3mMZ3PB/NF90+g==; incap_ses_1099_2269415=l614GKsZgTeQDAiMJm9AD5ioVGEAAAAAGO5EQljCtOZQ2pNiC/7w9g==; incap_ses_1319_2269415=xNvABJz+oxFlooyjzQdOEm3mVGEAAAAAxiQf/7+Dg+CZPa9S3pSOkw==; incap_ses_8218_2269415=+y2aFYvCpXqsN2E7uTMMcnjNVWEAAAAAfHPk/xbBsMXgbuLbpMPNTg==; incap_ses_197_2271082=3X/wR9xLtUNxBvKYAOO7AiUpVmEAAAAAnO0hNZiy8G3Uj8+vTlCNtg==; incap_ses_197_2269415=l+ICQuRgMU2MMfiYAOO7AgkxVmEAAAAASRrEoGwj4tp1MRR8VKhjLA==; incap_ses_1183_2269415=OhEqR+IVNDAvLF4EqdxqEPyYV2EAAAAAj75sX5j7/ivaxxNTG2895A==; nlbi_2269415_2147483646=wrGTc9ggtGxbM37akG5lugAAAAA0nsxxFO1DAuYLqRO0Jgti; reese84=3:FoqroZXTX0um54SOwIWKjA==:YO/yl3InHTMII3M6BnzM4zkbG1owlrcizV7RqLEDrQfMgcGBcqC2k5r0yaS6XeNvcypeVlgUTbf+7ezOc2RpTLkTTl3xbtJ09wg8bs3ieMnYIR56Z7FuPN8LXSQcruXu1yE4hZFM0YiGNprDnV2Kibf+/t1PgSvcC9KI9Ct+JtAe/ZEu4CJu4pEUl+o3gikzaiqi8MsW97bSQcyTFsSiIbk2qd/bJ08X63cvhSi8WTHUJqYt+bMKe1Xyk9HwwKZoKOCUFXiS3ii4vN0v/FHLk8Jy7o9LQB/Z1xzOVtjoA7NNmcXNiRPOABG+6cAtm088xS5DOzomuJGllFBgAyF54Vwc2Aus1UVxbTEJSDxXQeXAUALPutaa7yRdJLeeBO48oePz7joPHjKNOjDviGenYnq9PPyelddtxVbUPeQSyRCj5/33eJnYA4B1IqyXZbGe:npm/6v3pppT1/jtFb9eSCDl4lxXy40xw2WOBV1LuS9M=; _gid=GA1.2.1060470715.1633131322; _ga=GA1.1.47856707.1632585606; incap_ses_1183_2271082=FXDrZneGFnV0218EqdxqEDubV2EAAAAAURvnkWlw2CeqpDLIEHCilA==; _4c_=XZNtb5swEMe^%^2FSsXUvCrENg^%^2BGSHnRJVIVqa2qtdteRo59AasEI2NCsyrffWeWJl0Bibv^%^2F^%^2FXw2x917MFTQBDOaxTHFm2Vo3ASvcOiC2XtgtfKvfTALUirVlqQi5EqKMCkyGQpJKboFiA0TW0IguAnefK6ExBnNSEHi^%^2BHgTqOYjh4Kt6Gv3GYtzQnBfxPQHJb7EWUYTjNvhBJwDeZqQ^%^2F1GvICrbE^%^2Foe9LbGlJVzbTebTodhiCyI2hkbSTHdifbbvXDa9QoexNs8KaKYclZM7k1TntWQsjgiLCZ8coZ142Fa5DT^%^2FBKM6wowlPJnsNQzzWndu8mysm2fhcvJ0B2alunkZk7VkG9YMcTVB7VHsYP5LNNL0e7DXbHHNyPfF5MmaFqw7vBxauLOmb1fLOT2rzyCsrHxspVB^%^2BsaLphHTaNCeNTRa9tdDIw3xxu8SqSqMAq0GLqIgI^%^2Bu4Pepm3oPGVb61C^%^2B^%^2B52^%^2FXO1RDfheZpxwiPsDpaiTTIMt9aoXrq1w00QGmBz1alXDCjYawnrQStX^%^2BV1YTi5qBbqsHMqcjWprPRKlaA^%^2B6UWb4uu6kntelKUP1XjRlL8rxK7xryhLU1Qo7LNiKuvMdiOXZ60Z6BL2F6RtnD^%^2Bg86hKs9s31AzqtoHFa1MYuzG6HuhS^%^2BT^%^2BwlgtzGmqEDf9BFZc0OrooYVYOTEfweT9eha2ELWGT7pctKY8oaIml2U4Q67WBM^%^2F9F6Jw3n7CKHo9yOw4ZGbfBMfhXOJ9Iw^%^2FtkLjdqL1fj59gFcZXBO0RdKe2o8vR^%^2B7TxOnfBFlLbpOSwXdqzNtcDxNTxwzyjk2LaXYFA4rkeNE^%^2BQuJ^%^2FXkwaZEwTgkPJbA8TBTjYcGLTSi3yUakfJsqsQnOKSk^%^2BLMlSfkpJ838Zj8e^%^2F; _ga_Y07J3B53QP=GS1.1.1633131320.7.1.1633131388.60',\n",
    "}\n",
    "\n",
    "data = {\n",
    "  'LatitudeMax': '49.31729',\n",
    "  'LongitudeMax': '-123.02307',\n",
    "  'LatitudeMin': '49.19818',\n",
    "  'LongitudeMin': '-123.22474',\n",
    "  'Sort': '6-D',\n",
    "  'PropertyTypeGroupID': '1',\n",
    "  'PropertySearchTypeId': '1',\n",
    "  'TransactionTypeId': '2',\n",
    "  'Currency': 'CAD',\n",
    "  'RecordsPerPage': '12',\n",
    "  'ApplicationId': '1',\n",
    "  'CultureId': '1',\n",
    "  'Version': '7.0',\n",
    "  'CurrentPage': '1'\n",
    "}\n",
    "\n",
    "response = requests.post('https://api2.realtor.ca/Listing.svc/PropertySearch_Post', headers=headers, data=data)"
   ]
  },
  {
   "cell_type": "markdown",
   "id": "121480d6",
   "metadata": {},
   "source": [
    "Step 3 -- Check the status code"
   ]
  },
  {
   "cell_type": "code",
   "execution_count": 3,
   "id": "26b458e9",
   "metadata": {},
   "outputs": [
    {
     "data": {
      "text/plain": [
       "<Response [200]>"
      ]
     },
     "execution_count": 3,
     "metadata": {},
     "output_type": "execute_result"
    }
   ],
   "source": [
    "response"
   ]
  },
  {
   "cell_type": "markdown",
   "id": "474eb7bf",
   "metadata": {},
   "source": [
    "Step 4 -- Create Json Object"
   ]
  },
  {
   "cell_type": "code",
   "execution_count": 4,
   "id": "0b32ae2a",
   "metadata": {},
   "outputs": [],
   "source": [
    "result_json = response.json()"
   ]
  },
  {
   "cell_type": "markdown",
   "id": "003e98e4",
   "metadata": {},
   "source": [
    "Step 5 -- Output Keys"
   ]
  },
  {
   "cell_type": "code",
   "execution_count": 5,
   "id": "70c62f67",
   "metadata": {},
   "outputs": [
    {
     "data": {
      "text/plain": [
       "dict_keys(['ErrorCode', 'Paging', 'Results', 'Pins', 'GroupingLevel'])"
      ]
     },
     "execution_count": 5,
     "metadata": {},
     "output_type": "execute_result"
    }
   ],
   "source": [
    "result_json.keys()"
   ]
  },
  {
   "cell_type": "markdown",
   "id": "509e3261",
   "metadata": {},
   "source": [
    "Step 6 -- Find the data\n",
    "\n",
    "a. Address\n",
    "\n",
    "b. Bedrooms\n",
    "\n",
    "c. Bathrooms\n",
    "\n",
    "d. Agent Name\n",
    "\n",
    "e. Area Code\n",
    "\n",
    "f. Phone Number\n",
    "\n",
    "g. Agent Organization\n",
    "\n",
    "h. Property Type\n",
    "\n",
    "i. Parking\n",
    "\n",
    "j. Amenities Near by\n",
    "\n",
    "k. Ownership Type\n",
    "\n",
    "l. Land Size\n",
    "\n",
    "m. Price"
   ]
  },
  {
   "cell_type": "code",
   "execution_count": 6,
   "id": "2ca397ba",
   "metadata": {},
   "outputs": [],
   "source": [
    "#starting point\n",
    "\n",
    "result_items = result_json['Results']"
   ]
  },
  {
   "cell_type": "code",
   "execution_count": 7,
   "id": "ad5ea2ba",
   "metadata": {},
   "outputs": [
    {
     "data": {
      "text/plain": [
       "12"
      ]
     },
     "execution_count": 7,
     "metadata": {},
     "output_type": "execute_result"
    }
   ],
   "source": [
    "len(result_items)"
   ]
  },
  {
   "cell_type": "code",
   "execution_count": 8,
   "id": "72f9e81e",
   "metadata": {},
   "outputs": [
    {
     "data": {
      "text/plain": [
       "'2883 SOTAO AVENUE|Vancouver, British Columbia V5S4V1'"
      ]
     },
     "execution_count": 8,
     "metadata": {},
     "output_type": "execute_result"
    }
   ],
   "source": [
    "#address of the first\n",
    "\n",
    "result_items[0]['Property']['Address']['AddressText']"
   ]
  },
  {
   "cell_type": "code",
   "execution_count": 9,
   "id": "1e70ca2d",
   "metadata": {},
   "outputs": [
    {
     "data": {
      "text/plain": [
       "'3'"
      ]
     },
     "execution_count": 9,
     "metadata": {},
     "output_type": "execute_result"
    }
   ],
   "source": [
    "#bedrooms\n",
    "result_items[0]['Building']['Bedrooms']"
   ]
  },
  {
   "cell_type": "code",
   "execution_count": 10,
   "id": "e56e5e81",
   "metadata": {},
   "outputs": [
    {
     "data": {
      "text/plain": [
       "'2'"
      ]
     },
     "execution_count": 10,
     "metadata": {},
     "output_type": "execute_result"
    }
   ],
   "source": [
    "#bathrooms\n",
    "result_items[0]['Building']['BathroomTotal']"
   ]
  },
  {
   "cell_type": "code",
   "execution_count": 11,
   "id": "5784aff4",
   "metadata": {},
   "outputs": [
    {
     "data": {
      "text/plain": [
       "'Francis Cruz'"
      ]
     },
     "execution_count": 11,
     "metadata": {},
     "output_type": "execute_result"
    }
   ],
   "source": [
    "#Agent name\n",
    "result_items[0]['Individual'][0]['Name']"
   ]
  },
  {
   "cell_type": "code",
   "execution_count": 12,
   "id": "20bce683",
   "metadata": {},
   "outputs": [
    {
     "data": {
      "text/plain": [
       "'778'"
      ]
     },
     "execution_count": 12,
     "metadata": {},
     "output_type": "execute_result"
    }
   ],
   "source": [
    "#Area Code\n",
    "result_items[0]['Individual'][0]['Phones'][0]['AreaCode']"
   ]
  },
  {
   "cell_type": "code",
   "execution_count": 13,
   "id": "7193c8c6",
   "metadata": {},
   "outputs": [
    {
     "data": {
      "text/plain": [
       "'378-8285'"
      ]
     },
     "execution_count": 13,
     "metadata": {},
     "output_type": "execute_result"
    }
   ],
   "source": [
    "#Phone number\n",
    "result_items[0]['Individual'][0]['Phones'][0]['PhoneNumber']"
   ]
  },
  {
   "cell_type": "code",
   "execution_count": 14,
   "id": "6b942c31",
   "metadata": {},
   "outputs": [
    {
     "data": {
      "text/plain": [
       "'Keller Williams Elite Realty'"
      ]
     },
     "execution_count": 14,
     "metadata": {},
     "output_type": "execute_result"
    }
   ],
   "source": [
    "#Agent organization\n",
    "result_items[0]['Individual'][0]['Organization']['Name']"
   ]
  },
  {
   "cell_type": "code",
   "execution_count": 15,
   "id": "50856016",
   "metadata": {},
   "outputs": [
    {
     "data": {
      "text/plain": [
       "'Single Family'"
      ]
     },
     "execution_count": 15,
     "metadata": {},
     "output_type": "execute_result"
    }
   ],
   "source": [
    "#Property type\n",
    "result_items[0]['Property']['Type']"
   ]
  },
  {
   "cell_type": "code",
   "execution_count": 16,
   "id": "dc6316a7",
   "metadata": {},
   "outputs": [
    {
     "ename": "KeyError",
     "evalue": "'Parking'",
     "output_type": "error",
     "traceback": [
      "\u001b[1;31m---------------------------------------------------------------------------\u001b[0m",
      "\u001b[1;31mKeyError\u001b[0m                                  Traceback (most recent call last)",
      "\u001b[1;32m<ipython-input-16-fabcc31cff08>\u001b[0m in \u001b[0;36m<module>\u001b[1;34m\u001b[0m\n\u001b[0;32m      1\u001b[0m \u001b[1;31m#Parking\u001b[0m\u001b[1;33m\u001b[0m\u001b[1;33m\u001b[0m\u001b[1;33m\u001b[0m\u001b[0m\n\u001b[1;32m----> 2\u001b[1;33m \u001b[0mresult_items\u001b[0m\u001b[1;33m[\u001b[0m\u001b[1;36m0\u001b[0m\u001b[1;33m]\u001b[0m\u001b[1;33m[\u001b[0m\u001b[1;34m'Property'\u001b[0m\u001b[1;33m]\u001b[0m\u001b[1;33m[\u001b[0m\u001b[1;34m'Parking'\u001b[0m\u001b[1;33m]\u001b[0m\u001b[1;33m[\u001b[0m\u001b[1;36m0\u001b[0m\u001b[1;33m]\u001b[0m\u001b[1;33m[\u001b[0m\u001b[1;34m'Name'\u001b[0m\u001b[1;33m]\u001b[0m\u001b[1;33m\u001b[0m\u001b[1;33m\u001b[0m\u001b[0m\n\u001b[0m",
      "\u001b[1;31mKeyError\u001b[0m: 'Parking'"
     ]
    }
   ],
   "source": [
    "#Parking\n",
    "result_items[0]['Property']['Parking'][0]['Name']"
   ]
  },
  {
   "cell_type": "code",
   "execution_count": 17,
   "id": "d15644fa",
   "metadata": {},
   "outputs": [
    {
     "ename": "KeyError",
     "evalue": "'AmmenitiesNearBy'",
     "output_type": "error",
     "traceback": [
      "\u001b[1;31m---------------------------------------------------------------------------\u001b[0m",
      "\u001b[1;31mKeyError\u001b[0m                                  Traceback (most recent call last)",
      "\u001b[1;32m<ipython-input-17-71e944d96a48>\u001b[0m in \u001b[0;36m<module>\u001b[1;34m\u001b[0m\n\u001b[0;32m      1\u001b[0m \u001b[1;31m#Amenities nearby\u001b[0m\u001b[1;33m\u001b[0m\u001b[1;33m\u001b[0m\u001b[1;33m\u001b[0m\u001b[0m\n\u001b[1;32m----> 2\u001b[1;33m \u001b[0mresult_items\u001b[0m\u001b[1;33m[\u001b[0m\u001b[1;36m0\u001b[0m\u001b[1;33m]\u001b[0m\u001b[1;33m[\u001b[0m\u001b[1;34m'Property'\u001b[0m\u001b[1;33m]\u001b[0m\u001b[1;33m[\u001b[0m\u001b[1;34m'AmmenitiesNearBy'\u001b[0m\u001b[1;33m]\u001b[0m\u001b[1;33m\u001b[0m\u001b[1;33m\u001b[0m\u001b[0m\n\u001b[0m",
      "\u001b[1;31mKeyError\u001b[0m: 'AmmenitiesNearBy'"
     ]
    }
   ],
   "source": [
    "#Amenities nearby\n",
    "result_items[0]['Property']['AmmenitiesNearBy']"
   ]
  },
  {
   "cell_type": "code",
   "execution_count": 18,
   "id": "bb18a11e",
   "metadata": {},
   "outputs": [
    {
     "data": {
      "text/plain": [
       "'Strata'"
      ]
     },
     "execution_count": 18,
     "metadata": {},
     "output_type": "execute_result"
    }
   ],
   "source": [
    "#Ownership type\n",
    "result_items[0]['Property']['OwnershipType']"
   ]
  },
  {
   "cell_type": "code",
   "execution_count": 19,
   "id": "572c64f0",
   "metadata": {},
   "outputs": [
    {
     "data": {
      "text/plain": [
       "'0'"
      ]
     },
     "execution_count": 19,
     "metadata": {},
     "output_type": "execute_result"
    }
   ],
   "source": [
    "#Land size\n",
    "result_items[0]['Land']['SizeTotal']"
   ]
  },
  {
   "cell_type": "code",
   "execution_count": 20,
   "id": "a8dfbe33",
   "metadata": {},
   "outputs": [
    {
     "data": {
      "text/plain": [
       "'$895,000'"
      ]
     },
     "execution_count": 20,
     "metadata": {},
     "output_type": "execute_result"
    }
   ],
   "source": [
    "#Price\n",
    "result_items[0]['Property']['Price']"
   ]
  },
  {
   "cell_type": "markdown",
   "id": "652faf3e",
   "metadata": {},
   "source": [
    "Step 7 -- Put everything together -- Loop through and append data inside a list"
   ]
  },
  {
   "cell_type": "code",
   "execution_count": 21,
   "id": "2b60886c",
   "metadata": {},
   "outputs": [],
   "source": [
    "address = []\n",
    "bedrooms = []\n",
    "bathrooms = []\n",
    "agent_name = []\n",
    "area_code = []\n",
    "phone_number = []\n",
    "agent_organization = []\n",
    "property_type = []\n",
    "parking = []\n",
    "amenities_nearby = []\n",
    "ownership_type = []\n",
    "land_size = []\n",
    "price = []\n",
    "\n",
    "for result in result_items:\n",
    "    \n",
    "    #address\n",
    "    try:\n",
    "        address.append(result['Property']['Address']['AddressText'])\n",
    "    except:\n",
    "        address.append('')\n",
    "    \n",
    "    #bedrooms\n",
    "    try:\n",
    "        bedrooms.append(result['Building']['Bedrooms'])\n",
    "    except:\n",
    "        bedrooms.append('')\n",
    "    \n",
    "    #bathrooms\n",
    "    try:\n",
    "        bathrooms.append(result['Building']['BathroomTotal'])\n",
    "    except:\n",
    "        bathrooms.append('')\n",
    "    \n",
    "    #agent name\n",
    "    try:\n",
    "        agent_name.append(result['Individual'][0]['Name'])\n",
    "    except:\n",
    "        agent_name.append('')\n",
    "        \n",
    "    #area code\n",
    "    try:\n",
    "        area_code.append(result['Individual'][0]['Phones'][0]['AreaCode'])\n",
    "    except:\n",
    "        area_code.append('')\n",
    "    \n",
    "    #phone number\n",
    "    try:\n",
    "        phone_number.append(result['Individual'][0]['Phones'][0]['PhoneNumber'])\n",
    "    except:\n",
    "        phone_number.append('')\n",
    "    \n",
    "    #agent_organization\n",
    "    try:\n",
    "        agent_organization.append(result['Individual'][0]['Organization']['Name'])\n",
    "    except:\n",
    "        agent_organization.append('')\n",
    "    \n",
    "    #property_type\n",
    "    try:\n",
    "        property_type.append(result['Property']['Type'])\n",
    "    except:\n",
    "        property_type.append('')\n",
    "    \n",
    "    #parking\n",
    "    try:\n",
    "        parking.append(result['Property']['Parking'][0]['Name'])\n",
    "    except:\n",
    "        parking.append('')\n",
    "    \n",
    "    #amenities_nearby\n",
    "    try:\n",
    "        amenities_nearby.append(result['Property']['AmmenitiesNearBy'])\n",
    "    except:\n",
    "        amenities_nearby.append('')\n",
    "    \n",
    "    #ownership_type\n",
    "    try:\n",
    "        ownership_type.append(result['Property']['OwnershipType'])\n",
    "    except:\n",
    "        ownership_type.append('')\n",
    "    \n",
    "    #land_size\n",
    "    try:\n",
    "        land_size.append(result['Land']['SizeTotal'])\n",
    "    except:\n",
    "        land_size.append('')\n",
    "    \n",
    "    #price\n",
    "    try:\n",
    "        price.append(result['Property']['Price'])\n",
    "    except:\n",
    "        price.append('')"
   ]
  },
  {
   "cell_type": "markdown",
   "id": "169da98a",
   "metadata": {},
   "source": [
    "Step 8 -- Pandas Dataframe"
   ]
  },
  {
   "cell_type": "code",
   "execution_count": 22,
   "id": "2fe1b2aa",
   "metadata": {},
   "outputs": [],
   "source": [
    "df_realtor4 = pd.DataFrame({'address': address, 'bedrooms': bedrooms, 'bathrooms': bathrooms,\n",
    "                           'agent_name': agent_name, 'area_code': area_code, 'phone_number': phone_number,\n",
    "                           'agent_organization': agent_organization, 'property_type': property_type,\n",
    "                           'parking': parking, 'amenities_nearby': amenities_nearby, 'ownership_type': ownership_type,\n",
    "                           'land_size': land_size, 'price': price})"
   ]
  },
  {
   "cell_type": "code",
   "execution_count": 23,
   "id": "eeb85d16",
   "metadata": {},
   "outputs": [
    {
     "data": {
      "text/html": [
       "<div>\n",
       "<style scoped>\n",
       "    .dataframe tbody tr th:only-of-type {\n",
       "        vertical-align: middle;\n",
       "    }\n",
       "\n",
       "    .dataframe tbody tr th {\n",
       "        vertical-align: top;\n",
       "    }\n",
       "\n",
       "    .dataframe thead th {\n",
       "        text-align: right;\n",
       "    }\n",
       "</style>\n",
       "<table border=\"1\" class=\"dataframe\">\n",
       "  <thead>\n",
       "    <tr style=\"text-align: right;\">\n",
       "      <th></th>\n",
       "      <th>address</th>\n",
       "      <th>bedrooms</th>\n",
       "      <th>bathrooms</th>\n",
       "      <th>agent_name</th>\n",
       "      <th>area_code</th>\n",
       "      <th>phone_number</th>\n",
       "      <th>agent_organization</th>\n",
       "      <th>property_type</th>\n",
       "      <th>parking</th>\n",
       "      <th>amenities_nearby</th>\n",
       "      <th>ownership_type</th>\n",
       "      <th>land_size</th>\n",
       "      <th>price</th>\n",
       "    </tr>\n",
       "  </thead>\n",
       "  <tbody>\n",
       "    <tr>\n",
       "      <th>0</th>\n",
       "      <td>2883 SOTAO AVENUE|Vancouver, British Columbia ...</td>\n",
       "      <td>3</td>\n",
       "      <td>2</td>\n",
       "      <td>Francis Cruz</td>\n",
       "      <td>778</td>\n",
       "      <td>378-8285</td>\n",
       "      <td>Keller Williams Elite Realty</td>\n",
       "      <td>Single Family</td>\n",
       "      <td></td>\n",
       "      <td></td>\n",
       "      <td>Strata</td>\n",
       "      <td>0</td>\n",
       "      <td>$895,000</td>\n",
       "    </tr>\n",
       "    <tr>\n",
       "      <th>1</th>\n",
       "      <td>112 1720 W 12TH AVENUE|Vancouver, British Colu...</td>\n",
       "      <td>1</td>\n",
       "      <td>1</td>\n",
       "      <td>Chris Estrada</td>\n",
       "      <td>604</td>\n",
       "      <td>575-5262</td>\n",
       "      <td>Homelife Benchmark Titus Realty</td>\n",
       "      <td>Single Family</td>\n",
       "      <td></td>\n",
       "      <td></td>\n",
       "      <td>Strata</td>\n",
       "      <td>0</td>\n",
       "      <td>$689,880</td>\n",
       "    </tr>\n",
       "    <tr>\n",
       "      <th>2</th>\n",
       "      <td>501 2580 TOLMIE STREET|Vancouver, British Colu...</td>\n",
       "      <td>3</td>\n",
       "      <td>2</td>\n",
       "      <td>Bryan Velve</td>\n",
       "      <td>604</td>\n",
       "      <td>880-6117</td>\n",
       "      <td>RE/MAX Crest Realty</td>\n",
       "      <td>Single Family</td>\n",
       "      <td></td>\n",
       "      <td>Golf Course, Recreation, Shopping</td>\n",
       "      <td>Strata</td>\n",
       "      <td>0</td>\n",
       "      <td>$1,348,000</td>\n",
       "    </tr>\n",
       "    <tr>\n",
       "      <th>3</th>\n",
       "      <td>213 550 E 6TH AVENUE|Vancouver, British Columb...</td>\n",
       "      <td>2</td>\n",
       "      <td>1</td>\n",
       "      <td>Mary Cleaver</td>\n",
       "      <td>604</td>\n",
       "      <td>317-2289</td>\n",
       "      <td>Stilhavn Real Estate Services</td>\n",
       "      <td>Single Family</td>\n",
       "      <td></td>\n",
       "      <td>Recreation, Shopping</td>\n",
       "      <td>Strata</td>\n",
       "      <td>0</td>\n",
       "      <td>$729,000</td>\n",
       "    </tr>\n",
       "    <tr>\n",
       "      <th>4</th>\n",
       "      <td>306 1220 W 6TH AVENUE|Vancouver, British Colum...</td>\n",
       "      <td>2</td>\n",
       "      <td>2</td>\n",
       "      <td>Krista Freeborn</td>\n",
       "      <td>604</td>\n",
       "      <td>716-9301</td>\n",
       "      <td>RE/MAX Crest Realty</td>\n",
       "      <td>Single Family</td>\n",
       "      <td></td>\n",
       "      <td></td>\n",
       "      <td>Strata</td>\n",
       "      <td>0</td>\n",
       "      <td>$1,299,000</td>\n",
       "    </tr>\n",
       "    <tr>\n",
       "      <th>5</th>\n",
       "      <td>2271 YEW STREET|Vancouver, British Columbia V6...</td>\n",
       "      <td>3</td>\n",
       "      <td>3</td>\n",
       "      <td>Thomas Beeson</td>\n",
       "      <td>604</td>\n",
       "      <td>354-4009</td>\n",
       "      <td>The Agency Vancouver</td>\n",
       "      <td>Single Family</td>\n",
       "      <td></td>\n",
       "      <td>Shopping</td>\n",
       "      <td>Strata</td>\n",
       "      <td>0</td>\n",
       "      <td>$1,599,900</td>\n",
       "    </tr>\n",
       "    <tr>\n",
       "      <th>6</th>\n",
       "      <td>1101 111 E 1ST AVENUE|Vancouver, British Colum...</td>\n",
       "      <td>1</td>\n",
       "      <td>1</td>\n",
       "      <td>Daniel Pang</td>\n",
       "      <td>604</td>\n",
       "      <td>202-3128</td>\n",
       "      <td>Sutton Group - Vancouver First Realty</td>\n",
       "      <td>Single Family</td>\n",
       "      <td></td>\n",
       "      <td>Marina, Recreation, Shopping</td>\n",
       "      <td>Strata</td>\n",
       "      <td>0</td>\n",
       "      <td>$798,000</td>\n",
       "    </tr>\n",
       "    <tr>\n",
       "      <th>7</th>\n",
       "      <td>904 1133 HOMER STREET|Vancouver, British Colum...</td>\n",
       "      <td>2</td>\n",
       "      <td>2</td>\n",
       "      <td>Andrew Wan</td>\n",
       "      <td>604</td>\n",
       "      <td>762-1528</td>\n",
       "      <td>Oakwyn Realty Ltd.</td>\n",
       "      <td>Single Family</td>\n",
       "      <td></td>\n",
       "      <td>Playground</td>\n",
       "      <td>Strata</td>\n",
       "      <td>0</td>\n",
       "      <td>$1,399,900</td>\n",
       "    </tr>\n",
       "    <tr>\n",
       "      <th>8</th>\n",
       "      <td>2803 928 BEATTY STREET|Vancouver, British Colu...</td>\n",
       "      <td>1</td>\n",
       "      <td>1</td>\n",
       "      <td>Sarah Griffiths</td>\n",
       "      <td>604</td>\n",
       "      <td>379-2692</td>\n",
       "      <td>Oakwyn Realty Downtown Ltd.</td>\n",
       "      <td>Single Family</td>\n",
       "      <td></td>\n",
       "      <td></td>\n",
       "      <td>Strata</td>\n",
       "      <td>0</td>\n",
       "      <td>$648,800</td>\n",
       "    </tr>\n",
       "    <tr>\n",
       "      <th>9</th>\n",
       "      <td>2624 E PENDER STREET|Vancouver, British Columb...</td>\n",
       "      <td>3</td>\n",
       "      <td>4</td>\n",
       "      <td>Elio Parente</td>\n",
       "      <td>604</td>\n",
       "      <td>720-8829</td>\n",
       "      <td>RE/MAX City Realty</td>\n",
       "      <td>Single Family</td>\n",
       "      <td></td>\n",
       "      <td></td>\n",
       "      <td>Freehold</td>\n",
       "      <td>5445 sqft</td>\n",
       "      <td>$2,999,000</td>\n",
       "    </tr>\n",
       "    <tr>\n",
       "      <th>10</th>\n",
       "      <td>1504 788 RICHARDS STREET|Vancouver, British Co...</td>\n",
       "      <td>1</td>\n",
       "      <td>1</td>\n",
       "      <td>Melanie Chow</td>\n",
       "      <td>604</td>\n",
       "      <td>839-3231</td>\n",
       "      <td>Oakwyn Realty Ltd.</td>\n",
       "      <td>Single Family</td>\n",
       "      <td></td>\n",
       "      <td></td>\n",
       "      <td>Strata</td>\n",
       "      <td>0</td>\n",
       "      <td>$799,000</td>\n",
       "    </tr>\n",
       "    <tr>\n",
       "      <th>11</th>\n",
       "      <td>3421 OXFORD STREET|Vancouver, British Columbia...</td>\n",
       "      <td>3</td>\n",
       "      <td>1</td>\n",
       "      <td>GianCarlo Cerminara</td>\n",
       "      <td>604</td>\n",
       "      <td>787-3617</td>\n",
       "      <td>RE/MAX Crest Realty</td>\n",
       "      <td>Single Family</td>\n",
       "      <td></td>\n",
       "      <td>Recreation</td>\n",
       "      <td>Freehold</td>\n",
       "      <td>4570 sqft</td>\n",
       "      <td>$1,798,000</td>\n",
       "    </tr>\n",
       "  </tbody>\n",
       "</table>\n",
       "</div>"
      ],
      "text/plain": [
       "                                              address bedrooms bathrooms  \\\n",
       "0   2883 SOTAO AVENUE|Vancouver, British Columbia ...        3         2   \n",
       "1   112 1720 W 12TH AVENUE|Vancouver, British Colu...        1         1   \n",
       "2   501 2580 TOLMIE STREET|Vancouver, British Colu...        3         2   \n",
       "3   213 550 E 6TH AVENUE|Vancouver, British Columb...        2         1   \n",
       "4   306 1220 W 6TH AVENUE|Vancouver, British Colum...        2         2   \n",
       "5   2271 YEW STREET|Vancouver, British Columbia V6...        3         3   \n",
       "6   1101 111 E 1ST AVENUE|Vancouver, British Colum...        1         1   \n",
       "7   904 1133 HOMER STREET|Vancouver, British Colum...        2         2   \n",
       "8   2803 928 BEATTY STREET|Vancouver, British Colu...        1         1   \n",
       "9   2624 E PENDER STREET|Vancouver, British Columb...        3         4   \n",
       "10  1504 788 RICHARDS STREET|Vancouver, British Co...        1         1   \n",
       "11  3421 OXFORD STREET|Vancouver, British Columbia...        3         1   \n",
       "\n",
       "             agent_name area_code phone_number  \\\n",
       "0          Francis Cruz       778     378-8285   \n",
       "1         Chris Estrada       604     575-5262   \n",
       "2           Bryan Velve       604     880-6117   \n",
       "3          Mary Cleaver       604     317-2289   \n",
       "4       Krista Freeborn       604     716-9301   \n",
       "5         Thomas Beeson       604     354-4009   \n",
       "6           Daniel Pang       604     202-3128   \n",
       "7            Andrew Wan       604     762-1528   \n",
       "8       Sarah Griffiths       604     379-2692   \n",
       "9          Elio Parente       604     720-8829   \n",
       "10         Melanie Chow       604     839-3231   \n",
       "11  GianCarlo Cerminara       604     787-3617   \n",
       "\n",
       "                       agent_organization  property_type parking  \\\n",
       "0            Keller Williams Elite Realty  Single Family           \n",
       "1         Homelife Benchmark Titus Realty  Single Family           \n",
       "2                     RE/MAX Crest Realty  Single Family           \n",
       "3           Stilhavn Real Estate Services  Single Family           \n",
       "4                     RE/MAX Crest Realty  Single Family           \n",
       "5                    The Agency Vancouver  Single Family           \n",
       "6   Sutton Group - Vancouver First Realty  Single Family           \n",
       "7                      Oakwyn Realty Ltd.  Single Family           \n",
       "8             Oakwyn Realty Downtown Ltd.  Single Family           \n",
       "9                      RE/MAX City Realty  Single Family           \n",
       "10                     Oakwyn Realty Ltd.  Single Family           \n",
       "11                    RE/MAX Crest Realty  Single Family           \n",
       "\n",
       "                     amenities_nearby ownership_type  land_size       price  \n",
       "0                                             Strata          0    $895,000  \n",
       "1                                             Strata          0    $689,880  \n",
       "2   Golf Course, Recreation, Shopping         Strata          0  $1,348,000  \n",
       "3                Recreation, Shopping         Strata          0    $729,000  \n",
       "4                                             Strata          0  $1,299,000  \n",
       "5                            Shopping         Strata          0  $1,599,900  \n",
       "6        Marina, Recreation, Shopping         Strata          0    $798,000  \n",
       "7                          Playground         Strata          0  $1,399,900  \n",
       "8                                             Strata          0    $648,800  \n",
       "9                                           Freehold  5445 sqft  $2,999,000  \n",
       "10                                            Strata          0    $799,000  \n",
       "11                         Recreation       Freehold  4570 sqft  $1,798,000  "
      ]
     },
     "execution_count": 23,
     "metadata": {},
     "output_type": "execute_result"
    }
   ],
   "source": [
    "df_realtor4"
   ]
  },
  {
   "cell_type": "markdown",
   "id": "354e917a",
   "metadata": {},
   "source": [
    "Step 9 -- Multiple Pages"
   ]
  },
  {
   "cell_type": "code",
   "execution_count": 24,
   "id": "58e562fe",
   "metadata": {},
   "outputs": [],
   "source": [
    "address = []\n",
    "bedrooms = []\n",
    "bathrooms = []\n",
    "agent_name = []\n",
    "area_code = []\n",
    "phone_number = []\n",
    "agent_organization = []\n",
    "property_type = []\n",
    "parking = []\n",
    "amenities_nearby = []\n",
    "ownership_type = []\n",
    "land_size = []\n",
    "price = []\n",
    "\n",
    "for i in range(1,51):\n",
    "    \n",
    "    headers = {\n",
    "    'authority': 'api2.realtor.ca',\n",
    "    'sec-ch-ua': '^\\\\^Google',\n",
    "    'accept': '*/*',\n",
    "    'content-type': 'application/x-www-form-urlencoded; charset=UTF-8',\n",
    "    'sec-ch-ua-mobile': '?0',\n",
    "    'user-agent': 'Mozilla/5.0 (Windows NT 10.0; Win64; x64) AppleWebKit/537.36 (KHTML, like Gecko) Chrome/93.0.4577.82 Safari/537.36',\n",
    "    'sec-ch-ua-platform': '^\\\\^Windows^\\\\^',\n",
    "    'origin': 'https://www.realtor.ca',\n",
    "    'sec-fetch-site': 'same-site',\n",
    "    'sec-fetch-mode': 'cors',\n",
    "    'sec-fetch-dest': 'empty',\n",
    "    'referer': 'https://www.realtor.ca/',\n",
    "    'accept-language': 'en-US,en;q=0.9',\n",
    "    'cookie': 'visid_incap_2269415=56oEKAXmT1e8LgWFhTODX39HT2EAAAAAQUIPAAAAAAA6XQQJauxAZNKYdTMi51ef; nlbi_2269415=QaoGOd78EWeyusHAkG5lugAAAAAihIiZUQqjacyaIhgm93n/; _fbp=fb.1.1632585611808.1195553212; gig_bootstrap_3_mrQiIl6ov44s2X3j6NGWVZ9SDDtplqV7WgdcyEpGYnYxl7ygDWPQHqQqtpSiUfko=gigya-pr_ver4; ASP.NET_SessionId=ls0ga3brpkfa0gwbb4t5iwjb; visid_incap_2271082=Bc3F/XJ7TXy966CgTpn81s9HT2EAAAAAQUIPAAAAAAAN6ueej0G2bHS8YfvoFfRL; nlbi_2271082=Y41sWIuXbWoSw4ZNcbDG1QAAAAAnuH/JvEJyvwbXFE/zX4aq; incap_ses_1184_2269415=MAMGBVlRRBprgaaLPGpuEGWAUGEAAAAAUMf2tKoUjjdygWbVgIw0EQ==; incap_ses_458_2269415=563WS3ux8DkbKMuoCSVbBuPyUWEAAAAAovhxVyjZzO9XyNCp20L7Ow==; incap_ses_458_2271082=BMetKrhiDTE7LcuoCSVbBujyUWEAAAAAgNH9YrvVt5nqijVx0EZ3Mw==; incap_ses_1104_2271082=j6+DUoVfyHLtmbXFmDJSD9P1UWEAAAAAqfG5AXvjjFQISsLO4gwV4w==; incap_ses_1104_2269415=yBPiJnyRn1owr8DFmDJSDwL9UWEAAAAApUlEomlbyOylhaCs3U3kEg==; incap_ses_459_2269415=JJiaRC5kCQTnO5eakbJeBvE9UmEAAAAAt+uTDRhKdXyPtNXmOQL7Fg==; incap_ses_452_2269415=2TbtdM7jlydht9bGEdRFBo/NUmEAAAAA3S/ehFvuui8jIjqRZO5wDg==; incap_ses_374_2269415=YP9/KO5RfGPDRyHzb7cwBbjSUmEAAAAAM8TVj8Yj5IMkP/X1yR58bQ==; incap_ses_1098_2269415=SqcoX+WOskd+XK+QpeE8D+DXUmEAAAAAwSHqqUztYsYNA4CjAehGBQ==; incap_ses_868_2269415=0oYkQdLIZSW6tK5B28ELDIAoU2EAAAAAhLkoQrFwL/pKfYWQJijdmA==; incap_ses_1105_2269415=+ufkHAEF7S8kNVUYtMZVD2lPU2EAAAAAN+IrEp7zORC2fHIpbel5Cw==; incap_ses_1372_2269415=nsKNYGt5Gl+3rCyoKFMKEzCHU2EAAAAAFWMoocoVKfbpcXWhbw/09A==; incap_ses_457_2269415=WZZ7FBhWAxRpMQEEkpdXBjCLU2EAAAAAtsb/LakuHY44P/fQDh5Fdw==; incap_ses_9125_2269415=7k/OTxGY9mEmwzP7cYOifpSOU2EAAAAAIDzUgxoLc8wUKblKQF7DFw==; incap_ses_1371_2269415=0rLzGXYGVSFi7pRugsUGE2RVVGEAAAAA9oRCalWypy9jXuqksc+vCw==; incap_ses_1100_2269415=fSU2ItKCF1EhXRLfm/xDD3CjVGEAAAAA5sqkvxIb3mMZ3PB/NF90+g==; incap_ses_1099_2269415=l614GKsZgTeQDAiMJm9AD5ioVGEAAAAAGO5EQljCtOZQ2pNiC/7w9g==; incap_ses_1319_2269415=xNvABJz+oxFlooyjzQdOEm3mVGEAAAAAxiQf/7+Dg+CZPa9S3pSOkw==; incap_ses_8218_2269415=+y2aFYvCpXqsN2E7uTMMcnjNVWEAAAAAfHPk/xbBsMXgbuLbpMPNTg==; incap_ses_197_2271082=3X/wR9xLtUNxBvKYAOO7AiUpVmEAAAAAnO0hNZiy8G3Uj8+vTlCNtg==; incap_ses_197_2269415=l+ICQuRgMU2MMfiYAOO7AgkxVmEAAAAASRrEoGwj4tp1MRR8VKhjLA==; incap_ses_1183_2269415=OhEqR+IVNDAvLF4EqdxqEPyYV2EAAAAAj75sX5j7/ivaxxNTG2895A==; nlbi_2269415_2147483646=wrGTc9ggtGxbM37akG5lugAAAAA0nsxxFO1DAuYLqRO0Jgti; reese84=3:FoqroZXTX0um54SOwIWKjA==:YO/yl3InHTMII3M6BnzM4zkbG1owlrcizV7RqLEDrQfMgcGBcqC2k5r0yaS6XeNvcypeVlgUTbf+7ezOc2RpTLkTTl3xbtJ09wg8bs3ieMnYIR56Z7FuPN8LXSQcruXu1yE4hZFM0YiGNprDnV2Kibf+/t1PgSvcC9KI9Ct+JtAe/ZEu4CJu4pEUl+o3gikzaiqi8MsW97bSQcyTFsSiIbk2qd/bJ08X63cvhSi8WTHUJqYt+bMKe1Xyk9HwwKZoKOCUFXiS3ii4vN0v/FHLk8Jy7o9LQB/Z1xzOVtjoA7NNmcXNiRPOABG+6cAtm088xS5DOzomuJGllFBgAyF54Vwc2Aus1UVxbTEJSDxXQeXAUALPutaa7yRdJLeeBO48oePz7joPHjKNOjDviGenYnq9PPyelddtxVbUPeQSyRCj5/33eJnYA4B1IqyXZbGe:npm/6v3pppT1/jtFb9eSCDl4lxXy40xw2WOBV1LuS9M=; _gid=GA1.2.1060470715.1633131322; _ga=GA1.1.47856707.1632585606; incap_ses_1183_2271082=FXDrZneGFnV0218EqdxqEDubV2EAAAAAURvnkWlw2CeqpDLIEHCilA==; _4c_=XZNtb5swEMe^%^2FSsXUvCrENg^%^2BGSHnRJVIVqa2qtdteRo59AasEI2NCsyrffWeWJl0Bibv^%^2F^%^2FXw2x917MFTQBDOaxTHFm2Vo3ASvcOiC2XtgtfKvfTALUirVlqQi5EqKMCkyGQpJKboFiA0TW0IguAnefK6ExBnNSEHi^%^2BHgTqOYjh4Kt6Gv3GYtzQnBfxPQHJb7EWUYTjNvhBJwDeZqQ^%^2F1GvICrbE^%^2Foe9LbGlJVzbTebTodhiCyI2hkbSTHdifbbvXDa9QoexNs8KaKYclZM7k1TntWQsjgiLCZ8coZ142Fa5DT^%^2FBKM6wowlPJnsNQzzWndu8mysm2fhcvJ0B2alunkZk7VkG9YMcTVB7VHsYP5LNNL0e7DXbHHNyPfF5MmaFqw7vBxauLOmb1fLOT2rzyCsrHxspVB^%^2BsaLphHTaNCeNTRa9tdDIw3xxu8SqSqMAq0GLqIgI^%^2Bu4Pepm3oPGVb61C^%^2B^%^2B52^%^2FXO1RDfheZpxwiPsDpaiTTIMt9aoXrq1w00QGmBz1alXDCjYawnrQStX^%^2BV1YTi5qBbqsHMqcjWprPRKlaA^%^2B6UWb4uu6kntelKUP1XjRlL8rxK7xryhLU1Qo7LNiKuvMdiOXZ60Z6BL2F6RtnD^%^2Bg86hKs9s31AzqtoHFa1MYuzG6HuhS^%^2BT^%^2BwlgtzGmqEDf9BFZc0OrooYVYOTEfweT9eha2ELWGT7pctKY8oaIml2U4Q67WBM^%^2F9F6Jw3n7CKHo9yOw4ZGbfBMfhXOJ9Iw^%^2FtkLjdqL1fj59gFcZXBO0RdKe2o8vR^%^2B7TxOnfBFlLbpOSwXdqzNtcDxNTxwzyjk2LaXYFA4rkeNE^%^2BQuJ^%^2FXkwaZEwTgkPJbA8TBTjYcGLTSi3yUakfJsqsQnOKSk^%^2BLMlSfkpJ838Zj8e^%^2F; _ga_Y07J3B53QP=GS1.1.1633131320.7.1.1633131388.60',\n",
    "    }\n",
    "\n",
    "    data = {\n",
    "      'LatitudeMax': '49.31729',\n",
    "      'LongitudeMax': '-123.02307',\n",
    "      'LatitudeMin': '49.19818',\n",
    "      'LongitudeMin': '-123.22474',\n",
    "      'Sort': '6-D',\n",
    "      'PropertyTypeGroupID': '1',\n",
    "      'PropertySearchTypeId': '1',\n",
    "      'TransactionTypeId': '2',\n",
    "      'Currency': 'CAD',\n",
    "      'RecordsPerPage': '12',\n",
    "      'ApplicationId': '1',\n",
    "      'CultureId': '1',\n",
    "      'Version': '7.0',\n",
    "      'CurrentPage': str(i),\n",
    "    }\n",
    "    \n",
    "    #response\n",
    "    try:\n",
    "        response = requests.post('https://api2.realtor.ca/Listing.svc/PropertySearch_Post', headers=headers, data=data)\n",
    "    except requests.exceptions.ConnectionError:\n",
    "        response.status_code = \"Connection refused\"\n",
    "        sleep(5)\n",
    "\n",
    "    \n",
    "    #json object\n",
    "    result_json = response.json()\n",
    "    \n",
    "    #result items\n",
    "    result_items = result_json['Results']\n",
    "    \n",
    "    for result in result_items:\n",
    "\n",
    "        #address\n",
    "        try:\n",
    "            address.append(result['Property']['Address']['AddressText'])\n",
    "        except:\n",
    "            address.append('')\n",
    "\n",
    "        #bedrooms\n",
    "        try:\n",
    "            bedrooms.append(result['Building']['Bedrooms'])\n",
    "        except:\n",
    "            bedrooms.append('')\n",
    "\n",
    "        #bathrooms\n",
    "        try:\n",
    "            bathrooms.append(result['Building']['BathroomTotal'])\n",
    "        except:\n",
    "            bathrooms.append('')\n",
    "\n",
    "        #agent name\n",
    "        try:\n",
    "            agent_name.append(result['Individual'][0]['Name'])\n",
    "        except:\n",
    "            agent_name.append('')\n",
    "\n",
    "        #area code\n",
    "        try:\n",
    "            area_code.append(result['Individual'][0]['Phones'][0]['AreaCode'])\n",
    "        except:\n",
    "            area_code.append('')\n",
    "\n",
    "        #phone number\n",
    "        try:\n",
    "            phone_number.append(result['Individual'][0]['Phones'][0]['PhoneNumber'])\n",
    "        except:\n",
    "            phone_number.append('')\n",
    "\n",
    "        #agent_organization\n",
    "        try:\n",
    "            agent_organization.append(result['Individual'][0]['Organization']['Name'])\n",
    "        except:\n",
    "            agent_organization.append('')\n",
    "\n",
    "        #property_type\n",
    "        try:\n",
    "            property_type.append(result['Property']['Type'])\n",
    "        except:\n",
    "            property_type.append('')\n",
    "\n",
    "        #parking\n",
    "        try:\n",
    "            parking.append(result['Property']['Parking'][0]['Name'])\n",
    "        except:\n",
    "            parking.append('')\n",
    "\n",
    "        #amenities_nearby\n",
    "        try:\n",
    "            amenities_nearby.append(result['Property']['AmmenitiesNearBy'])\n",
    "        except:\n",
    "            amenities_nearby.append('')\n",
    "\n",
    "        #ownership_type\n",
    "        try:\n",
    "            ownership_type.append(result['Property']['OwnershipType'])\n",
    "        except:\n",
    "            ownership_type.append('')\n",
    "\n",
    "        #land_size\n",
    "        try:\n",
    "            land_size.append(result['Land']['SizeTotal'])\n",
    "        except:\n",
    "            land_size.append('')\n",
    "\n",
    "        #price\n",
    "        try:\n",
    "            price.append(result['Property']['Price'])\n",
    "        except:\n",
    "            price.append('')"
   ]
  },
  {
   "cell_type": "code",
   "execution_count": 25,
   "id": "59cadc17",
   "metadata": {},
   "outputs": [],
   "source": [
    "df_realtor4 = pd.DataFrame({'address': address, 'bedrooms': bedrooms, 'bathrooms': bathrooms,\n",
    "                           'agent_name': agent_name, 'area_code': area_code, 'phone_number': phone_number,\n",
    "                           'agent_organization': agent_organization, 'property_type': property_type,\n",
    "                           'parking': parking, 'amenities_nearby': amenities_nearby, 'ownership_type': ownership_type,\n",
    "                           'land_size': land_size, 'price': price})"
   ]
  },
  {
   "cell_type": "code",
   "execution_count": 26,
   "id": "8c963a97",
   "metadata": {},
   "outputs": [
    {
     "data": {
      "text/html": [
       "<div>\n",
       "<style scoped>\n",
       "    .dataframe tbody tr th:only-of-type {\n",
       "        vertical-align: middle;\n",
       "    }\n",
       "\n",
       "    .dataframe tbody tr th {\n",
       "        vertical-align: top;\n",
       "    }\n",
       "\n",
       "    .dataframe thead th {\n",
       "        text-align: right;\n",
       "    }\n",
       "</style>\n",
       "<table border=\"1\" class=\"dataframe\">\n",
       "  <thead>\n",
       "    <tr style=\"text-align: right;\">\n",
       "      <th></th>\n",
       "      <th>address</th>\n",
       "      <th>bedrooms</th>\n",
       "      <th>bathrooms</th>\n",
       "      <th>agent_name</th>\n",
       "      <th>area_code</th>\n",
       "      <th>phone_number</th>\n",
       "      <th>agent_organization</th>\n",
       "      <th>property_type</th>\n",
       "      <th>parking</th>\n",
       "      <th>amenities_nearby</th>\n",
       "      <th>ownership_type</th>\n",
       "      <th>land_size</th>\n",
       "      <th>price</th>\n",
       "    </tr>\n",
       "  </thead>\n",
       "  <tbody>\n",
       "    <tr>\n",
       "      <th>0</th>\n",
       "      <td>2883 SOTAO AVENUE|Vancouver, British Columbia ...</td>\n",
       "      <td>3</td>\n",
       "      <td>2</td>\n",
       "      <td>Francis Cruz</td>\n",
       "      <td>778</td>\n",
       "      <td>378-8285</td>\n",
       "      <td>Keller Williams Elite Realty</td>\n",
       "      <td>Single Family</td>\n",
       "      <td></td>\n",
       "      <td></td>\n",
       "      <td>Strata</td>\n",
       "      <td>0</td>\n",
       "      <td>$895,000</td>\n",
       "    </tr>\n",
       "    <tr>\n",
       "      <th>1</th>\n",
       "      <td>112 1720 W 12TH AVENUE|Vancouver, British Colu...</td>\n",
       "      <td>1</td>\n",
       "      <td>1</td>\n",
       "      <td>Chris Estrada</td>\n",
       "      <td>604</td>\n",
       "      <td>575-5262</td>\n",
       "      <td>Homelife Benchmark Titus Realty</td>\n",
       "      <td>Single Family</td>\n",
       "      <td></td>\n",
       "      <td></td>\n",
       "      <td>Strata</td>\n",
       "      <td>0</td>\n",
       "      <td>$689,880</td>\n",
       "    </tr>\n",
       "    <tr>\n",
       "      <th>2</th>\n",
       "      <td>501 2580 TOLMIE STREET|Vancouver, British Colu...</td>\n",
       "      <td>3</td>\n",
       "      <td>2</td>\n",
       "      <td>Bryan Velve</td>\n",
       "      <td>604</td>\n",
       "      <td>880-6117</td>\n",
       "      <td>RE/MAX Crest Realty</td>\n",
       "      <td>Single Family</td>\n",
       "      <td></td>\n",
       "      <td>Golf Course, Recreation, Shopping</td>\n",
       "      <td>Strata</td>\n",
       "      <td>0</td>\n",
       "      <td>$1,348,000</td>\n",
       "    </tr>\n",
       "    <tr>\n",
       "      <th>3</th>\n",
       "      <td>213 550 E 6TH AVENUE|Vancouver, British Columb...</td>\n",
       "      <td>2</td>\n",
       "      <td>1</td>\n",
       "      <td>Mary Cleaver</td>\n",
       "      <td>604</td>\n",
       "      <td>317-2289</td>\n",
       "      <td>Stilhavn Real Estate Services</td>\n",
       "      <td>Single Family</td>\n",
       "      <td></td>\n",
       "      <td>Recreation, Shopping</td>\n",
       "      <td>Strata</td>\n",
       "      <td>0</td>\n",
       "      <td>$729,000</td>\n",
       "    </tr>\n",
       "    <tr>\n",
       "      <th>4</th>\n",
       "      <td>306 1220 W 6TH AVENUE|Vancouver, British Colum...</td>\n",
       "      <td>2</td>\n",
       "      <td>2</td>\n",
       "      <td>Krista Freeborn</td>\n",
       "      <td>604</td>\n",
       "      <td>716-9301</td>\n",
       "      <td>RE/MAX Crest Realty</td>\n",
       "      <td>Single Family</td>\n",
       "      <td></td>\n",
       "      <td></td>\n",
       "      <td>Strata</td>\n",
       "      <td>0</td>\n",
       "      <td>$1,299,000</td>\n",
       "    </tr>\n",
       "    <tr>\n",
       "      <th>...</th>\n",
       "      <td>...</td>\n",
       "      <td>...</td>\n",
       "      <td>...</td>\n",
       "      <td>...</td>\n",
       "      <td>...</td>\n",
       "      <td>...</td>\n",
       "      <td>...</td>\n",
       "      <td>...</td>\n",
       "      <td>...</td>\n",
       "      <td>...</td>\n",
       "      <td>...</td>\n",
       "      <td>...</td>\n",
       "      <td>...</td>\n",
       "    </tr>\n",
       "    <tr>\n",
       "      <th>595</th>\n",
       "      <td>EPH2 2455 KINGSWAY|Vancouver, British Columbia...</td>\n",
       "      <td>2</td>\n",
       "      <td>2</td>\n",
       "      <td>Ben Amzaleg</td>\n",
       "      <td>604</td>\n",
       "      <td>626-2725</td>\n",
       "      <td>Oakwyn Realty Downtown Ltd.</td>\n",
       "      <td>Single Family</td>\n",
       "      <td></td>\n",
       "      <td></td>\n",
       "      <td>Strata</td>\n",
       "      <td>0</td>\n",
       "      <td>$1,129,900</td>\n",
       "    </tr>\n",
       "    <tr>\n",
       "      <th>596</th>\n",
       "      <td>39 W 38TH AVENUE|Vancouver, British Columbia V...</td>\n",
       "      <td>5</td>\n",
       "      <td>5</td>\n",
       "      <td>Sam Toa</td>\n",
       "      <td>604</td>\n",
       "      <td>710-1717</td>\n",
       "      <td>Royal Pacific Realty Corp.</td>\n",
       "      <td>Single Family</td>\n",
       "      <td></td>\n",
       "      <td>Golf Course, Recreation, Shopping</td>\n",
       "      <td>Freehold</td>\n",
       "      <td>5734 sqft</td>\n",
       "      <td>$3,880,000</td>\n",
       "    </tr>\n",
       "    <tr>\n",
       "      <th>597</th>\n",
       "      <td>2504 NAPIER STREET|Vancouver, British Columbia...</td>\n",
       "      <td>3</td>\n",
       "      <td>4</td>\n",
       "      <td>Corey Martin</td>\n",
       "      <td>778</td>\n",
       "      <td>836-8842</td>\n",
       "      <td>Stilhavn Real Estate Services</td>\n",
       "      <td>Single Family</td>\n",
       "      <td></td>\n",
       "      <td>Recreation, Shopping</td>\n",
       "      <td>Strata</td>\n",
       "      <td>33 x 108</td>\n",
       "      <td>$1,549,000</td>\n",
       "    </tr>\n",
       "    <tr>\n",
       "      <th>598</th>\n",
       "      <td>116 3250 W BROADWAY|Vancouver, British Columbi...</td>\n",
       "      <td>2</td>\n",
       "      <td>2</td>\n",
       "      <td>Carole Lieberman</td>\n",
       "      <td>604</td>\n",
       "      <td>263-1144</td>\n",
       "      <td>Dexter Realty</td>\n",
       "      <td>Single Family</td>\n",
       "      <td></td>\n",
       "      <td>Recreation, Shopping</td>\n",
       "      <td>Strata</td>\n",
       "      <td>0</td>\n",
       "      <td>$875,000</td>\n",
       "    </tr>\n",
       "    <tr>\n",
       "      <th>599</th>\n",
       "      <td>2802 838 W HASTINGS STREET|Vancouver, British ...</td>\n",
       "      <td>2</td>\n",
       "      <td>2</td>\n",
       "      <td>Michael Chan</td>\n",
       "      <td>604</td>\n",
       "      <td>630-3777</td>\n",
       "      <td>Royal Pacific Realty Corp.</td>\n",
       "      <td>Single Family</td>\n",
       "      <td></td>\n",
       "      <td>Recreation, Shopping</td>\n",
       "      <td>Strata</td>\n",
       "      <td>0</td>\n",
       "      <td>$1,288,000</td>\n",
       "    </tr>\n",
       "  </tbody>\n",
       "</table>\n",
       "<p>600 rows × 13 columns</p>\n",
       "</div>"
      ],
      "text/plain": [
       "                                               address bedrooms bathrooms  \\\n",
       "0    2883 SOTAO AVENUE|Vancouver, British Columbia ...        3         2   \n",
       "1    112 1720 W 12TH AVENUE|Vancouver, British Colu...        1         1   \n",
       "2    501 2580 TOLMIE STREET|Vancouver, British Colu...        3         2   \n",
       "3    213 550 E 6TH AVENUE|Vancouver, British Columb...        2         1   \n",
       "4    306 1220 W 6TH AVENUE|Vancouver, British Colum...        2         2   \n",
       "..                                                 ...      ...       ...   \n",
       "595  EPH2 2455 KINGSWAY|Vancouver, British Columbia...        2         2   \n",
       "596  39 W 38TH AVENUE|Vancouver, British Columbia V...        5         5   \n",
       "597  2504 NAPIER STREET|Vancouver, British Columbia...        3         4   \n",
       "598  116 3250 W BROADWAY|Vancouver, British Columbi...        2         2   \n",
       "599  2802 838 W HASTINGS STREET|Vancouver, British ...        2         2   \n",
       "\n",
       "           agent_name area_code phone_number               agent_organization  \\\n",
       "0        Francis Cruz       778     378-8285     Keller Williams Elite Realty   \n",
       "1       Chris Estrada       604     575-5262  Homelife Benchmark Titus Realty   \n",
       "2         Bryan Velve       604     880-6117              RE/MAX Crest Realty   \n",
       "3        Mary Cleaver       604     317-2289    Stilhavn Real Estate Services   \n",
       "4     Krista Freeborn       604     716-9301              RE/MAX Crest Realty   \n",
       "..                ...       ...          ...                              ...   \n",
       "595       Ben Amzaleg       604     626-2725      Oakwyn Realty Downtown Ltd.   \n",
       "596           Sam Toa       604     710-1717       Royal Pacific Realty Corp.   \n",
       "597      Corey Martin       778     836-8842    Stilhavn Real Estate Services   \n",
       "598  Carole Lieberman       604     263-1144                    Dexter Realty   \n",
       "599      Michael Chan       604     630-3777       Royal Pacific Realty Corp.   \n",
       "\n",
       "     property_type parking                   amenities_nearby ownership_type  \\\n",
       "0    Single Family                                                    Strata   \n",
       "1    Single Family                                                    Strata   \n",
       "2    Single Family          Golf Course, Recreation, Shopping         Strata   \n",
       "3    Single Family                       Recreation, Shopping         Strata   \n",
       "4    Single Family                                                    Strata   \n",
       "..             ...     ...                                ...            ...   \n",
       "595  Single Family                                                    Strata   \n",
       "596  Single Family          Golf Course, Recreation, Shopping       Freehold   \n",
       "597  Single Family                       Recreation, Shopping         Strata   \n",
       "598  Single Family                       Recreation, Shopping         Strata   \n",
       "599  Single Family                       Recreation, Shopping         Strata   \n",
       "\n",
       "     land_size       price  \n",
       "0            0    $895,000  \n",
       "1            0    $689,880  \n",
       "2            0  $1,348,000  \n",
       "3            0    $729,000  \n",
       "4            0  $1,299,000  \n",
       "..         ...         ...  \n",
       "595          0  $1,129,900  \n",
       "596  5734 sqft  $3,880,000  \n",
       "597   33 x 108  $1,549,000  \n",
       "598          0    $875,000  \n",
       "599          0  $1,288,000  \n",
       "\n",
       "[600 rows x 13 columns]"
      ]
     },
     "execution_count": 26,
     "metadata": {},
     "output_type": "execute_result"
    }
   ],
   "source": [
    "df_realtor4"
   ]
  },
  {
   "cell_type": "code",
   "execution_count": 27,
   "id": "95ef37ab",
   "metadata": {},
   "outputs": [
    {
     "data": {
      "text/plain": [
       "(600, 13)"
      ]
     },
     "execution_count": 27,
     "metadata": {},
     "output_type": "execute_result"
    }
   ],
   "source": [
    "df_realtor4.shape"
   ]
  },
  {
   "cell_type": "markdown",
   "id": "66cc060a",
   "metadata": {},
   "source": [
    "Step 10 -- Store results in excel"
   ]
  },
  {
   "cell_type": "code",
   "execution_count": 28,
   "id": "9efe46de",
   "metadata": {},
   "outputs": [],
   "source": [
    "df_realtor4.to_excel('realtor_data.xlsx', index=False)"
   ]
  },
  {
   "cell_type": "markdown",
   "id": "7d872b85",
   "metadata": {},
   "source": [
    "Step 11 -- Store in PostgreSQL"
   ]
  },
  {
   "cell_type": "code",
   "execution_count": 29,
   "id": "8bf86085",
   "metadata": {},
   "outputs": [],
   "source": [
    "# #create SQLalchemy engine\n",
    "# engine = sqlalchemy.create_engine('postgresql://postgres:XXXXXXXXXXXXXXXXXXX')\n",
    "# df_realtor4.to_sql('real_estate_data', engine)"
   ]
  }
 ],
 "metadata": {
  "kernelspec": {
   "display_name": "Python 3",
   "language": "python",
   "name": "python3"
  },
  "language_info": {
   "codemirror_mode": {
    "name": "ipython",
    "version": 3
   },
   "file_extension": ".py",
   "mimetype": "text/x-python",
   "name": "python",
   "nbconvert_exporter": "python",
   "pygments_lexer": "ipython3",
   "version": "3.8.8"
  }
 },
 "nbformat": 4,
 "nbformat_minor": 5
}
